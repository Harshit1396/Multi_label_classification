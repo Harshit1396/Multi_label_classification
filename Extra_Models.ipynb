{
 "cells": [
  {
   "cell_type": "code",
   "execution_count": null,
   "metadata": {},
   "outputs": [],
   "source": [
    "from sklearn.naive_bayes import MultinomialNB\n",
    "from sklearn.pipeline import Pipeline\n",
    "# Binary Relevance\n",
    "from sklearn.multiclass import OneVsRestClassifier\n",
    "\n",
    "# Performance metric\n",
    "from sklearn.metrics import f1_score\n",
    "# Define a pipeline combining a text feature extractor with multi lable classifier\n",
    "NB_pipeline = Pipeline([\n",
    "                ('tfidf', TfidfVectorizer(max_df=0.8, max_features=50000)),\n",
    "                ('clf', OneVsRestClassifier(MultinomialNB(\n",
    "                    fit_prior=True, class_prior=None))),\n",
    "            ])\n",
    "# print('... Processing {}'.format(category))\n",
    "# train the model using X_dtm & y\n",
    "NB_pipeline.fit(xtrain, ytrain)\n",
    "# compute the testing accuracy\n",
    "prediction = NB_pipeline.predict(xval)\n",
    "print('Test accuracy is {}'.format(f1_score(yval, prediction,average = 'micro')))"
   ]
  },
  {
   "cell_type": "code",
   "execution_count": null,
   "metadata": {},
   "outputs": [],
   "source": [
    "from sklearn.ensemble import RandomForestClassifier\n",
    "clf = RandomForestClassifier(n_estimators=100, max_depth=5,random_state=0,n)\n",
    "clf.fit(xtrain_tfidf, ytrain)\n",
    "predict = clf.predict(xval_tfidf)\n",
    "f1_score(yval, predict, average=\"micro\")\n",
    "print(clf.n_classes_)\n",
    "print(clf.classes_)\n",
    "print(clf.n_outputs_)"
   ]
  },
  {
   "cell_type": "code",
   "execution_count": null,
   "metadata": {},
   "outputs": [],
   "source": [
    "from skmultilearn.adapt import MLkNN\n",
    "for i in (10,15,20):\n",
    "  classifier = MLkNN(k=i)\n",
    "\n",
    "  # train\n",
    "  classifier.fit(xtrain_tfidf, ytrain)\n",
    "\n",
    "  # predict\n",
    "  predictions = classifier.predict(xval_tfidf)\n",
    "  print(f1_score(yval, predictions, average=\"micro\"))"
   ]
  }
 ],
 "metadata": {
  "kernelspec": {
   "display_name": "Python 3",
   "language": "python",
   "name": "python3"
  },
  "language_info": {
   "codemirror_mode": {
    "name": "ipython",
    "version": 3
   },
   "file_extension": ".py",
   "mimetype": "text/x-python",
   "name": "python",
   "nbconvert_exporter": "python",
   "pygments_lexer": "ipython3",
   "version": "3.7.3"
  }
 },
 "nbformat": 4,
 "nbformat_minor": 2
}
